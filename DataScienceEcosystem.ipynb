{
 "cells": [
  {
   "cell_type": "markdown",
   "id": "6a50f77d",
   "metadata": {},
   "source": [
    "# Data Science Tools and Ecosystem"
   ]
  },
  {
   "cell_type": "markdown",
   "id": "d6ce6df0",
   "metadata": {},
   "source": [
    "In this notebook, Data Science Tools and Ecosystem are summarized."
   ]
  },
  {
   "cell_type": "markdown",
   "id": "36309dec",
   "metadata": {},
   "source": [
    "Below are some of the popular languages ​​used by data scientists:\n",
    "\n",
    "1. Python\n",
    "2. R\n",
    "3. Java"
   ]
  },
  {
   "cell_type": "markdown",
   "id": "d6812e82",
   "metadata": {},
   "source": [
    "Some of the commonly used libraries used by Data Scientists include:\n",
    "\n",
    "1. Pandas\n",
    "2. NumPy\n",
    "3. Scikit-learn "
   ]
  },
  {
   "cell_type": "markdown",
   "id": "df456d8f",
   "metadata": {},
   "source": [
    "|Data Science Tools|\n",
    "|------------------|\n",
    "|Jupyter Notebook/JupyterLab|\n",
    "|VS Code (Visual Studio Code)|\n",
    "|RStudio|"
   ]
  },
  {
   "cell_type": "markdown",
   "id": "d8d6e529",
   "metadata": {},
   "source": [
    "### Below are a few examples of evaluating arithmetic expressions in Python\n",
    "\n",
    "**Addition example:**\n",
    "\n",
    "suma = 2 + 3\n",
    "\n",
    "print(suma) \n",
    "\n",
    "\n",
    "\n",
    "**Subtraction example:**\n",
    "\n",
    "resta = 12 - 5\n",
    "\n",
    "print(resta)\n",
    "\n",
    "\n",
    "\n",
    "**Multiplication example:**\n",
    "\n",
    "multi = 10 * 4\n",
    "\n",
    "print(multi)\n",
    "\n"
   ]
  },
  {
   "cell_type": "code",
   "execution_count": null,
   "id": "c33c3ba4",
   "metadata": {},
   "outputs": [],
   "source": [
    "# This a simple arithmetic expression to mutiply then add integers.\n",
    "\n",
    "ev = (3*4)+5\n",
    "print(ev)"
   ]
  },
  {
   "cell_type": "code",
   "execution_count": null,
   "id": "6a876a89",
   "metadata": {},
   "outputs": [],
   "source": [
    "# This will convert 200 minutes to hours.\n",
    "\n",
    "def minutos_a_horas(minutos):\n",
    "  horas = minutos / 60\n",
    "  return horas\n",
    "\n",
    "cantidad_minutos = 200\n",
    "cantidad_horas = minutos_a_horas(cantidad_minutos)\n",
    "print(f\"{cantidad_minutos} minutos son {cantidad_horas} horas\")"
   ]
  },
  {
   "cell_type": "markdown",
   "id": "bfb8a60b",
   "metadata": {},
   "source": [
    "**Objetives:**\n",
    "\n",
    "1. List popular languages for Data Science\n",
    "2. List of libraries commonly used by data scientists include\n",
    "3. Data Science Tool\n",
    "4. Arithmetic Expressions in Python"
   ]
  },
  {
   "cell_type": "markdown",
   "id": "33f1b735",
   "metadata": {},
   "source": [
    "## Author\n",
    "River Martín"
   ]
  }
 ],
 "metadata": {
  "kernelspec": {
   "display_name": "Python 3",
   "language": "python",
   "name": "python3"
  },
  "language_info": {
   "codemirror_mode": {
    "name": "ipython",
    "version": 3
   },
   "file_extension": ".py",
   "mimetype": "text/x-python",
   "name": "python",
   "nbconvert_exporter": "python",
   "pygments_lexer": "ipython3",
   "version": "3.13.3"
  }
 },
 "nbformat": 4,
 "nbformat_minor": 5
}
